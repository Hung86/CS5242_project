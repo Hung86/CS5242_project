{
 "cells": [
  {
   "cell_type": "code",
   "execution_count": 4,
   "metadata": {},
   "outputs": [],
   "source": [
    "# import pandas as pd\n",
    "from glob import glob\n",
    "from pathlib import Path\n",
    "from shutil import copyfile, rmtree\n",
    "\n",
    "import numpy as np"
   ]
  },
  {
   "cell_type": "code",
   "execution_count": 12,
   "metadata": {},
   "outputs": [
    {
     "name": "stdout",
     "output_type": "stream",
     "text": [
      "Untitled1.ipynb      split-data.ipynb\r\n",
      "keras.ipynb          vgg16-submission.csv\r\n"
     ]
    }
   ],
   "source": [
    "!ls"
   ]
  },
  {
   "cell_type": "code",
   "execution_count": 2,
   "metadata": {},
   "outputs": [
    {
     "data": {
      "text/html": [
       "<div>\n",
       "<style scoped>\n",
       "    .dataframe tbody tr th:only-of-type {\n",
       "        vertical-align: middle;\n",
       "    }\n",
       "\n",
       "    .dataframe tbody tr th {\n",
       "        vertical-align: top;\n",
       "    }\n",
       "\n",
       "    .dataframe thead th {\n",
       "        text-align: right;\n",
       "    }\n",
       "</style>\n",
       "<table border=\"1\" class=\"dataframe\">\n",
       "  <thead>\n",
       "    <tr style=\"text-align: right;\">\n",
       "      <th></th>\n",
       "      <th>ID</th>\n",
       "      <th>Label</th>\n",
       "    </tr>\n",
       "  </thead>\n",
       "  <tbody>\n",
       "    <tr>\n",
       "      <th>0</th>\n",
       "      <td>0</td>\n",
       "      <td>1</td>\n",
       "    </tr>\n",
       "    <tr>\n",
       "      <th>1</th>\n",
       "      <td>1</td>\n",
       "      <td>0</td>\n",
       "    </tr>\n",
       "    <tr>\n",
       "      <th>2</th>\n",
       "      <td>2</td>\n",
       "      <td>1</td>\n",
       "    </tr>\n",
       "    <tr>\n",
       "      <th>3</th>\n",
       "      <td>3</td>\n",
       "      <td>1</td>\n",
       "    </tr>\n",
       "    <tr>\n",
       "      <th>4</th>\n",
       "      <td>4</td>\n",
       "      <td>1</td>\n",
       "    </tr>\n",
       "  </tbody>\n",
       "</table>\n",
       "</div>"
      ],
      "text/plain": [
       "   ID  Label\n",
       "0   0      1\n",
       "1   1      0\n",
       "2   2      1\n",
       "3   3      1\n",
       "4   4      1"
      ]
     },
     "execution_count": 2,
     "metadata": {},
     "output_type": "execute_result"
    }
   ],
   "source": [
    "df = pd.read_csv(\"../data/train_label.csv\")\n",
    "df.head()"
   ]
  },
  {
   "cell_type": "code",
   "execution_count": 3,
   "metadata": {},
   "outputs": [
    {
     "name": "stdout",
     "output_type": "stream",
     "text": [
      "<class 'pandas.core.frame.DataFrame'>\n",
      "RangeIndex: 1164 entries, 0 to 1163\n",
      "Data columns (total 2 columns):\n",
      "ID       1164 non-null int64\n",
      "Label    1164 non-null int64\n",
      "dtypes: int64(2)\n",
      "memory usage: 18.3 KB\n"
     ]
    }
   ],
   "source": [
    "df.info()"
   ]
  },
  {
   "cell_type": "code",
   "execution_count": 4,
   "metadata": {},
   "outputs": [],
   "source": [
    "df_0 = df[df['Label'] == 0]\n",
    "df_1 = df[df['Label'] == 1]\n",
    "df_2 = df[df['Label'] == 2]"
   ]
  },
  {
   "cell_type": "code",
   "execution_count": 6,
   "metadata": {},
   "outputs": [],
   "source": [
    "min_row_count = min(df_0.shape[0], df_1.shape[0], df_2.shape[0])\n",
    "\n",
    "df_0 = df_0.sample(n=min_row_count, random_state=1)\n",
    "df_1 = df_1.sample(n=min_row_count, random_state=1)\n",
    "df_2 = df_2.sample(n=min_row_count, random_state=1)"
   ]
  },
  {
   "cell_type": "code",
   "execution_count": 7,
   "metadata": {},
   "outputs": [
    {
     "data": {
      "text/plain": [
       "(312, 2)"
      ]
     },
     "execution_count": 7,
     "metadata": {},
     "output_type": "execute_result"
    }
   ],
   "source": [
    "df_0.shape"
   ]
  },
  {
   "cell_type": "code",
   "execution_count": 8,
   "metadata": {},
   "outputs": [
    {
     "data": {
      "text/plain": [
       "(312, 2)"
      ]
     },
     "execution_count": 8,
     "metadata": {},
     "output_type": "execute_result"
    }
   ],
   "source": [
    "df_1.shape"
   ]
  },
  {
   "cell_type": "code",
   "execution_count": 9,
   "metadata": {},
   "outputs": [
    {
     "data": {
      "text/plain": [
       "(312, 2)"
      ]
     },
     "execution_count": 9,
     "metadata": {},
     "output_type": "execute_result"
    }
   ],
   "source": [
    "df_2.shape"
   ]
  },
  {
   "cell_type": "code",
   "execution_count": 10,
   "metadata": {},
   "outputs": [],
   "source": [
    "def train_validate_test_split(df):\n",
    "    return np.split(df.sample(frac=1), [int(.6*len(df)), int(.8*len(df))])"
   ]
  },
  {
   "cell_type": "code",
   "execution_count": 11,
   "metadata": {},
   "outputs": [],
   "source": [
    "train_0, val_0, test_0 = train_validate_test_split(df_0)\n",
    "train_1, val_1, test_1 = train_validate_test_split(df_1)\n",
    "train_2, val_2, test_2 = train_validate_test_split(df_2)"
   ]
  },
  {
   "cell_type": "code",
   "execution_count": 12,
   "metadata": {},
   "outputs": [],
   "source": [
    "root\n",
    "\n",
    "train_folder_0 = \"../data/train/0\"\n",
    "train_folder_1 = \"../data/train/1\"\n",
    "train_folder_2 = \"../data/train/2\"\n",
    "\n",
    "val_folder_0 = \"../data/val/0\"\n",
    "val_folder_1 = \"../data/val/1\"\n",
    "val_folder_2 = \"../data/val/2\"\n",
    "\n",
    "test_folder_0 = \"../data/test/0\"\n",
    "test_folder_1 = \"../data/test/1\"\n",
    "test_folder_2 = \"../data/test/2\"\n",
    "\n",
    "rmtree('../data/train')\n",
    "rmtree('../data/val')\n",
    "rmtree('../data/test')\n",
    "\n",
    "Path(train_folder_0).mkdir(parents=True, exist_ok=True)\n",
    "Path(train_folder_1).mkdir(parents=True, exist_ok=True)\n",
    "Path(train_folder_2).mkdir(parents=True, exist_ok=True)\n",
    "\n",
    "Path(val_folder_0).mkdir(parents=True, exist_ok=True)\n",
    "Path(val_folder_1).mkdir(parents=True, exist_ok=True)\n",
    "Path(val_folder_2).mkdir(parents=True, exist_ok=True)\n",
    "\n",
    "Path(test_folder_0).mkdir(parents=True, exist_ok=True)\n",
    "Path(test_folder_1).mkdir(parents=True, exist_ok=True)\n",
    "Path(test_folder_2).mkdir(parents=True, exist_ok=True)\n",
    "\n",
    "\n",
    "files = glob(\"../data/train_image/*.png\")\n",
    "\n",
    "for img in files:\n",
    "    img_name = img.split(\"/\")[-1]\n",
    "    img_id = int(img_name.split(\".\")[0])\n",
    "    \n",
    "    if img_id in df_0['ID']:\n",
    "        if img_id in train_0['ID']:\n",
    "            copyfile(img, \"{}/{}\".format(train_folder_0, img_name))\n",
    "        elif img_id in val_0['ID']:\n",
    "            copyfile(img, \"{}/{}\".format(val_folder_0, img_name))\n",
    "        elif img_id in test_0['ID']:\n",
    "            copyfile(img, \"{}/{}\".format(test_folder_0, img_name))\n",
    "            \n",
    "    elif img_id in df_1['ID']:\n",
    "        if img_id in train_1['ID']:\n",
    "            copyfile(img, \"{}/{}\".format(train_folder_1, img_name))\n",
    "        elif img_id in val_1['ID']:\n",
    "            copyfile(img, \"{}/{}\".format(val_folder_1, img_name))\n",
    "        elif img_id in test_1['ID']:\n",
    "            copyfile(img, \"{}/{}\".format(test_folder_1, img_name))\n",
    "        \n",
    "    elif img_id in df_2['ID']:\n",
    "        if img_id in train_2['ID']:\n",
    "            copyfile(img, \"{}/{}\".format(train_folder_2, img_name))\n",
    "        elif img_id in val_2['ID']:\n",
    "            copyfile(img, \"{}/{}\".format(val_folder_2, img_name))\n",
    "        elif img_id in test_2['ID']:\n",
    "            copyfile(img, \"{}/{}\".format(test_folder_2, img_name))"
   ]
  },
  {
   "cell_type": "code",
   "execution_count": 13,
   "metadata": {},
   "outputs": [],
   "source": [
    "assert train_0['ID'].shape[0] == len(glob(\"{}/*.png\".format(train_folder_0)))\n",
    "assert train_1['ID'].shape[0] == len(glob(\"{}/*.png\".format(train_folder_1)))\n",
    "assert train_2['ID'].shape[0] == len(glob(\"{}/*.png\".format(train_folder_2)))\n",
    "\n",
    "assert val_0['ID'].shape[0] == len(glob(\"{}/*.png\".format(val_folder_0)))\n",
    "assert val_1['ID'].shape[0] == len(glob(\"{}/*.png\".format(val_folder_1)))\n",
    "assert val_2['ID'].shape[0] == len(glob(\"{}/*.png\".format(val_folder_2)))\n",
    "\n",
    "assert test_0['ID'].shape[0] == len(glob(\"{}/*.png\".format(test_folder_0)))\n",
    "assert test_1['ID'].shape[0] == len(glob(\"{}/*.png\".format(test_folder_1)))\n",
    "assert test_2['ID'].shape[0] == len(glob(\"{}/*.png\".format(test_folder_2)))"
   ]
  },
  {
   "cell_type": "code",
   "execution_count": null,
   "metadata": {},
   "outputs": [],
   "source": []
  }
 ],
 "metadata": {
  "kernelspec": {
   "display_name": "Python 3",
   "language": "python",
   "name": "python3"
  },
  "language_info": {
   "codemirror_mode": {
    "name": "ipython",
    "version": 3
   },
   "file_extension": ".py",
   "mimetype": "text/x-python",
   "name": "python",
   "nbconvert_exporter": "python",
   "pygments_lexer": "ipython3",
   "version": "3.8.3"
  }
 },
 "nbformat": 4,
 "nbformat_minor": 4
}

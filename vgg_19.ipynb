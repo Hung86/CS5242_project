{
  "nbformat": 4,
  "nbformat_minor": 0,
  "metadata": {
    "colab": {
      "name": "vgg_19.ipynb",
      "provenance": [],
      "collapsed_sections": []
    },
    "kernelspec": {
      "name": "python3",
      "display_name": "Python 3"
    },
    "accelerator": "GPU"
  },
  "cells": [
    {
      "cell_type": "code",
      "metadata": {
        "id": "svJKhvcQlWa9",
        "outputId": "0ba8be04-3fc2-425b-d52c-6326af587fbb",
        "colab": {
          "base_uri": "https://localhost:8080/",
          "height": 34
        }
      },
      "source": [
        "from google.colab import drive\n",
        "\n",
        "# This will prompt for authorization.\n",
        "drive.mount('/content/drive')\n",
        "\n",
        "# !ls \"/content/drive/My Drive\"\n",
        "!cp '/content/drive/My Drive/AI/datasets.zip' nus-cs5242.zip\n",
        "# # !cp '/content/drive/My Drive/AI/model_output_xception_overfitting-20201014T084949Z-001.zip' trained_model.zip\n",
        "!unzip -qq nus-cs5242.zip\n",
        "# !unzip -qq trained_model.zip \n"
      ],
      "execution_count": null,
      "outputs": [
        {
          "output_type": "stream",
          "text": [
            "Mounted at /content/drive\n"
          ],
          "name": "stdout"
        }
      ]
    },
    {
      "cell_type": "code",
      "metadata": {
        "id": "-t1BytR0XlWE"
      },
      "source": [
        "# !cp '/content/drive/My Drive/AI/model_output_xception_overfitting-20201014T084949Z-001.zip' trained_model.zip\n",
        "# !unzip -qq trained_model.zip "
      ],
      "execution_count": null,
      "outputs": []
    },
    {
      "cell_type": "code",
      "metadata": {
        "id": "svcBI3Bi9rwO"
      },
      "source": [
        ""
      ],
      "execution_count": null,
      "outputs": []
    },
    {
      "cell_type": "code",
      "metadata": {
        "id": "SOJluyd19fNG"
      },
      "source": [
        "import numpy as np\n",
        "import pandas as pd\n",
        "import cv2\n",
        "from sklearn.utils._joblib import Parallel\n",
        "from sklearn.utils._joblib import delayed\n",
        "\n",
        "import random\n",
        "from skimage import img_as_ubyte\n",
        "import os\n",
        "from skimage.util import random_noise\n",
        "\n",
        "import tensorflow as tf\n",
        "from tensorflow.keras.models import Sequential\n",
        "from tensorflow.keras.layers import Dense, Dropout, Flatten\n",
        "from tensorflow.keras.layers import BatchNormalization , Activation, MaxPooling2D, Dense, Dropout, Flatten\n",
        "from tensorflow.keras.preprocessing import image_dataset_from_directory\n",
        "from tensorflow.keras.preprocessing.image import ImageDataGenerator # new!\n",
        "from matplotlib import pyplot as plt\n",
        "from tensorflow.keras.applications import VGG19\n",
        "from tensorflow.keras.initializers import Zeros, glorot_normal\n",
        "from tensorflow.keras.callbacks import TensorBoard ,ReduceLROnPlateau, ModelCheckpoint\n",
        "import os\n",
        "from skimage import io \n",
        "import skimage as sk\n",
        "from skimage.transform import rotate, AffineTransform, warp\n"
      ],
      "execution_count": null,
      "outputs": []
    },
    {
      "cell_type": "code",
      "metadata": {
        "id": "-nEbc2SzwcRX"
      },
      "source": [
        "def random_rotation(image):\n",
        "    # pick a random degree of rotation between 25% on the left and 25% on the right\n",
        "    random_degree = random.uniform(-25, 25)\n",
        "    return rotate(image, random_degree)\n",
        "\n",
        "def random_noise(image):\n",
        "    # add random noise to the image\n",
        "    return random_noise(image)\n",
        "\n",
        "def blurring(iamge):\n",
        "      return cv2.GaussianBlur(iamge, (9,9),0)\n",
        "\n",
        "def contrast(image):\n",
        "    return 2*image\n",
        "\n",
        "def add_gaussian_noise(image):\n",
        "  # Adding Gaussian noise to image\n",
        "  common_type = np.float32 # Make noise and image of the same type\n",
        "  gnoise = tf.random.normal(shape=tf.shape(image), mean=0.0, stddev=0.4, dtype=common_type)\n",
        "  image_type_converted = tf.image.convert_image_dtype(image, dtype=common_type, saturate=False)\n",
        "  noisy_image = tf.add(image_type_converted, gnoise)\n",
        "  return noisy_image\n",
        "\n",
        "# def inverse_color(image):\n",
        "#     return sk.util.invert(image)\n",
        "\n",
        "def affine_transform(image):\n",
        "    _tf = AffineTransform(shear=-0.5)\n",
        "    return warp(image, _tf, order=1, preserve_range=True, mode='wrap')\n",
        "\n",
        "  \n",
        "available_transformations = np.array([random_rotation, random_noise, blurring, contrast , affine_transform])"
      ],
      "execution_count": null,
      "outputs": []
    },
    {
      "cell_type": "code",
      "metadata": {
        "id": "doPupLQfhE0q"
      },
      "source": [
        "def iamge_generator(x, y):\n",
        "    indices= np.random.choice(5,2, replace = False)\n",
        "    funcs = available_transformations[indices]\n",
        "    f_idx = 0\n",
        "    rows = []\n",
        "    for f in funcs:\n",
        "        image_to_transform = sk.io.imread(data_train_dir + x)\n",
        "        transformed_image = f(image_to_transform)\n",
        "        filename = \"aug_\"  + str(f_idx)  + \"_\" + x\n",
        "        rows.append([filename , y])\n",
        "#         files.append(filename)\n",
        "        sk.io.imsave(data_train_dir + filename, transformed_image)\n",
        "        f_idx = f_idx + 1\n",
        "        \n",
        "    return rows"
      ],
      "execution_count": null,
      "outputs": []
    },
    {
      "cell_type": "code",
      "metadata": {
        "id": "Ory0dNR7hE9s",
        "outputId": "b810384b-5c94-4c1c-ebcf-2b46da30730d",
        "colab": {
          "base_uri": "https://localhost:8080/",
          "height": 34
        }
      },
      "source": [
        "train_label = pd.read_csv(data_train_label_aug)\n",
        "# file_col = train_label.ID.map(lambda x: str(x)+\".png\").to_numpy()\n",
        "file_col = train_label.ID.to_numpy()\n",
        "label_col = train_label.Label.map(lambda x: str(x)).to_numpy()\n",
        "train_label = train_label.assign(ID=file_col, Label=label_col)\n",
        "print(train_label.shape)"
      ],
      "execution_count": null,
      "outputs": [
        {
          "output_type": "stream",
          "text": [
            "(3492, 2)\n"
          ],
          "name": "stdout"
        }
      ]
    },
    {
      "cell_type": "code",
      "metadata": {
        "id": "uv9vIA95JR1K",
        "outputId": "c2238338-934e-464e-be5c-dfd371754b95",
        "colab": {
          "base_uri": "https://localhost:8080/",
          "height": 119
        }
      },
      "source": [
        "print(train_label.head())"
      ],
      "execution_count": null,
      "outputs": [
        {
          "output_type": "stream",
          "text": [
            "      ID Label\n",
            "0  0.png     1\n",
            "1  1.png     0\n",
            "2  2.png     1\n",
            "3  3.png     1\n",
            "4  4.png     1\n"
          ],
          "name": "stdout"
        }
      ]
    },
    {
      "cell_type": "code",
      "metadata": {
        "id": "tbwkADIBhFFH",
        "outputId": "27d477fc-6ed3-4661-aece-edc4a55a0a1b",
        "colab": {
          "base_uri": "https://localhost:8080/",
          "height": 392
        }
      },
      "source": [
        "all_res = Parallel(n_jobs=None)(\n",
        "        delayed(iamge_generator)\n",
        "        (x,y) for x,y in zip(file_col, label_col))"
      ],
      "execution_count": null,
      "outputs": [
        {
          "output_type": "stream",
          "text": [
            "WARNING:root:Lossy conversion from float64 to uint8. Range [0, 1]. Convert image to uint8 prior to saving to suppress this warning.\n"
          ],
          "name": "stderr"
        },
        {
          "output_type": "error",
          "ename": "RecursionError",
          "evalue": "ignored",
          "traceback": [
            "\u001b[0;31m---------------------------------------------------------------------------\u001b[0m",
            "\u001b[0;31mRecursionError\u001b[0m                            Traceback (most recent call last)",
            "\u001b[0;32m<ipython-input-8-9a28236251e2>\u001b[0m in \u001b[0;36m<module>\u001b[0;34m()\u001b[0m\n\u001b[1;32m      1\u001b[0m all_res = Parallel(n_jobs=None)(\n\u001b[1;32m      2\u001b[0m         \u001b[0mdelayed\u001b[0m\u001b[0;34m(\u001b[0m\u001b[0miamge_generator\u001b[0m\u001b[0;34m)\u001b[0m\u001b[0;34m\u001b[0m\u001b[0;34m\u001b[0m\u001b[0m\n\u001b[0;32m----> 3\u001b[0;31m         (x,y) for x,y in zip(file_col, label_col))\n\u001b[0m",
            "\u001b[0;32m/usr/local/lib/python3.6/dist-packages/joblib/parallel.py\u001b[0m in \u001b[0;36m__call__\u001b[0;34m(self, iterable)\u001b[0m\n\u001b[1;32m   1030\u001b[0m                 \u001b[0mself\u001b[0m\u001b[0;34m.\u001b[0m\u001b[0m_iterating\u001b[0m \u001b[0;34m=\u001b[0m \u001b[0mself\u001b[0m\u001b[0;34m.\u001b[0m\u001b[0m_original_iterator\u001b[0m \u001b[0;32mis\u001b[0m \u001b[0;32mnot\u001b[0m \u001b[0;32mNone\u001b[0m\u001b[0;34m\u001b[0m\u001b[0;34m\u001b[0m\u001b[0m\n\u001b[1;32m   1031\u001b[0m \u001b[0;34m\u001b[0m\u001b[0m\n\u001b[0;32m-> 1032\u001b[0;31m             \u001b[0;32mwhile\u001b[0m \u001b[0mself\u001b[0m\u001b[0;34m.\u001b[0m\u001b[0mdispatch_one_batch\u001b[0m\u001b[0;34m(\u001b[0m\u001b[0miterator\u001b[0m\u001b[0;34m)\u001b[0m\u001b[0;34m:\u001b[0m\u001b[0;34m\u001b[0m\u001b[0;34m\u001b[0m\u001b[0m\n\u001b[0m\u001b[1;32m   1033\u001b[0m                 \u001b[0;32mpass\u001b[0m\u001b[0;34m\u001b[0m\u001b[0;34m\u001b[0m\u001b[0m\n\u001b[1;32m   1034\u001b[0m \u001b[0;34m\u001b[0m\u001b[0m\n",
            "\u001b[0;32m/usr/local/lib/python3.6/dist-packages/joblib/parallel.py\u001b[0m in \u001b[0;36mdispatch_one_batch\u001b[0;34m(self, iterator)\u001b[0m\n\u001b[1;32m    845\u001b[0m                 \u001b[0;32mreturn\u001b[0m \u001b[0;32mFalse\u001b[0m\u001b[0;34m\u001b[0m\u001b[0;34m\u001b[0m\u001b[0m\n\u001b[1;32m    846\u001b[0m             \u001b[0;32melse\u001b[0m\u001b[0;34m:\u001b[0m\u001b[0;34m\u001b[0m\u001b[0;34m\u001b[0m\u001b[0m\n\u001b[0;32m--> 847\u001b[0;31m                 \u001b[0mself\u001b[0m\u001b[0;34m.\u001b[0m\u001b[0m_dispatch\u001b[0m\u001b[0;34m(\u001b[0m\u001b[0mtasks\u001b[0m\u001b[0;34m)\u001b[0m\u001b[0;34m\u001b[0m\u001b[0;34m\u001b[0m\u001b[0m\n\u001b[0m\u001b[1;32m    848\u001b[0m                 \u001b[0;32mreturn\u001b[0m \u001b[0;32mTrue\u001b[0m\u001b[0;34m\u001b[0m\u001b[0;34m\u001b[0m\u001b[0m\n\u001b[1;32m    849\u001b[0m \u001b[0;34m\u001b[0m\u001b[0m\n",
            "\u001b[0;32m/usr/local/lib/python3.6/dist-packages/joblib/parallel.py\u001b[0m in \u001b[0;36m_dispatch\u001b[0;34m(self, batch)\u001b[0m\n\u001b[1;32m    763\u001b[0m         \u001b[0;32mwith\u001b[0m \u001b[0mself\u001b[0m\u001b[0;34m.\u001b[0m\u001b[0m_lock\u001b[0m\u001b[0;34m:\u001b[0m\u001b[0;34m\u001b[0m\u001b[0;34m\u001b[0m\u001b[0m\n\u001b[1;32m    764\u001b[0m             \u001b[0mjob_idx\u001b[0m \u001b[0;34m=\u001b[0m \u001b[0mlen\u001b[0m\u001b[0;34m(\u001b[0m\u001b[0mself\u001b[0m\u001b[0;34m.\u001b[0m\u001b[0m_jobs\u001b[0m\u001b[0;34m)\u001b[0m\u001b[0;34m\u001b[0m\u001b[0;34m\u001b[0m\u001b[0m\n\u001b[0;32m--> 765\u001b[0;31m             \u001b[0mjob\u001b[0m \u001b[0;34m=\u001b[0m \u001b[0mself\u001b[0m\u001b[0;34m.\u001b[0m\u001b[0m_backend\u001b[0m\u001b[0;34m.\u001b[0m\u001b[0mapply_async\u001b[0m\u001b[0;34m(\u001b[0m\u001b[0mbatch\u001b[0m\u001b[0;34m,\u001b[0m \u001b[0mcallback\u001b[0m\u001b[0;34m=\u001b[0m\u001b[0mcb\u001b[0m\u001b[0;34m)\u001b[0m\u001b[0;34m\u001b[0m\u001b[0;34m\u001b[0m\u001b[0m\n\u001b[0m\u001b[1;32m    766\u001b[0m             \u001b[0;31m# A job can complete so quickly than its callback is\u001b[0m\u001b[0;34m\u001b[0m\u001b[0;34m\u001b[0m\u001b[0;34m\u001b[0m\u001b[0m\n\u001b[1;32m    767\u001b[0m             \u001b[0;31m# called before we get here, causing self._jobs to\u001b[0m\u001b[0;34m\u001b[0m\u001b[0;34m\u001b[0m\u001b[0;34m\u001b[0m\u001b[0m\n",
            "\u001b[0;32m/usr/local/lib/python3.6/dist-packages/joblib/_parallel_backends.py\u001b[0m in \u001b[0;36mapply_async\u001b[0;34m(self, func, callback)\u001b[0m\n\u001b[1;32m    206\u001b[0m     \u001b[0;32mdef\u001b[0m \u001b[0mapply_async\u001b[0m\u001b[0;34m(\u001b[0m\u001b[0mself\u001b[0m\u001b[0;34m,\u001b[0m \u001b[0mfunc\u001b[0m\u001b[0;34m,\u001b[0m \u001b[0mcallback\u001b[0m\u001b[0;34m=\u001b[0m\u001b[0;32mNone\u001b[0m\u001b[0;34m)\u001b[0m\u001b[0;34m:\u001b[0m\u001b[0;34m\u001b[0m\u001b[0;34m\u001b[0m\u001b[0m\n\u001b[1;32m    207\u001b[0m         \u001b[0;34m\"\"\"Schedule a func to be run\"\"\"\u001b[0m\u001b[0;34m\u001b[0m\u001b[0;34m\u001b[0m\u001b[0m\n\u001b[0;32m--> 208\u001b[0;31m         \u001b[0mresult\u001b[0m \u001b[0;34m=\u001b[0m \u001b[0mImmediateResult\u001b[0m\u001b[0;34m(\u001b[0m\u001b[0mfunc\u001b[0m\u001b[0;34m)\u001b[0m\u001b[0;34m\u001b[0m\u001b[0;34m\u001b[0m\u001b[0m\n\u001b[0m\u001b[1;32m    209\u001b[0m         \u001b[0;32mif\u001b[0m \u001b[0mcallback\u001b[0m\u001b[0;34m:\u001b[0m\u001b[0;34m\u001b[0m\u001b[0;34m\u001b[0m\u001b[0m\n\u001b[1;32m    210\u001b[0m             \u001b[0mcallback\u001b[0m\u001b[0;34m(\u001b[0m\u001b[0mresult\u001b[0m\u001b[0;34m)\u001b[0m\u001b[0;34m\u001b[0m\u001b[0;34m\u001b[0m\u001b[0m\n",
            "\u001b[0;32m/usr/local/lib/python3.6/dist-packages/joblib/_parallel_backends.py\u001b[0m in \u001b[0;36m__init__\u001b[0;34m(self, batch)\u001b[0m\n\u001b[1;32m    570\u001b[0m         \u001b[0;31m# Don't delay the application, to avoid keeping the input\u001b[0m\u001b[0;34m\u001b[0m\u001b[0;34m\u001b[0m\u001b[0;34m\u001b[0m\u001b[0m\n\u001b[1;32m    571\u001b[0m         \u001b[0;31m# arguments in memory\u001b[0m\u001b[0;34m\u001b[0m\u001b[0;34m\u001b[0m\u001b[0;34m\u001b[0m\u001b[0m\n\u001b[0;32m--> 572\u001b[0;31m         \u001b[0mself\u001b[0m\u001b[0;34m.\u001b[0m\u001b[0mresults\u001b[0m \u001b[0;34m=\u001b[0m \u001b[0mbatch\u001b[0m\u001b[0;34m(\u001b[0m\u001b[0;34m)\u001b[0m\u001b[0;34m\u001b[0m\u001b[0;34m\u001b[0m\u001b[0m\n\u001b[0m\u001b[1;32m    573\u001b[0m \u001b[0;34m\u001b[0m\u001b[0m\n\u001b[1;32m    574\u001b[0m     \u001b[0;32mdef\u001b[0m \u001b[0mget\u001b[0m\u001b[0;34m(\u001b[0m\u001b[0mself\u001b[0m\u001b[0;34m)\u001b[0m\u001b[0;34m:\u001b[0m\u001b[0;34m\u001b[0m\u001b[0;34m\u001b[0m\u001b[0m\n",
            "\u001b[0;32m/usr/local/lib/python3.6/dist-packages/joblib/parallel.py\u001b[0m in \u001b[0;36m__call__\u001b[0;34m(self)\u001b[0m\n\u001b[1;32m    251\u001b[0m         \u001b[0;32mwith\u001b[0m \u001b[0mparallel_backend\u001b[0m\u001b[0;34m(\u001b[0m\u001b[0mself\u001b[0m\u001b[0;34m.\u001b[0m\u001b[0m_backend\u001b[0m\u001b[0;34m,\u001b[0m \u001b[0mn_jobs\u001b[0m\u001b[0;34m=\u001b[0m\u001b[0mself\u001b[0m\u001b[0;34m.\u001b[0m\u001b[0m_n_jobs\u001b[0m\u001b[0;34m)\u001b[0m\u001b[0;34m:\u001b[0m\u001b[0;34m\u001b[0m\u001b[0;34m\u001b[0m\u001b[0m\n\u001b[1;32m    252\u001b[0m             return [func(*args, **kwargs)\n\u001b[0;32m--> 253\u001b[0;31m                     for func, args, kwargs in self.items]\n\u001b[0m\u001b[1;32m    254\u001b[0m \u001b[0;34m\u001b[0m\u001b[0m\n\u001b[1;32m    255\u001b[0m     \u001b[0;32mdef\u001b[0m \u001b[0m__reduce__\u001b[0m\u001b[0;34m(\u001b[0m\u001b[0mself\u001b[0m\u001b[0;34m)\u001b[0m\u001b[0;34m:\u001b[0m\u001b[0;34m\u001b[0m\u001b[0;34m\u001b[0m\u001b[0m\n",
            "\u001b[0;32m/usr/local/lib/python3.6/dist-packages/joblib/parallel.py\u001b[0m in \u001b[0;36m<listcomp>\u001b[0;34m(.0)\u001b[0m\n\u001b[1;32m    251\u001b[0m         \u001b[0;32mwith\u001b[0m \u001b[0mparallel_backend\u001b[0m\u001b[0;34m(\u001b[0m\u001b[0mself\u001b[0m\u001b[0;34m.\u001b[0m\u001b[0m_backend\u001b[0m\u001b[0;34m,\u001b[0m \u001b[0mn_jobs\u001b[0m\u001b[0;34m=\u001b[0m\u001b[0mself\u001b[0m\u001b[0;34m.\u001b[0m\u001b[0m_n_jobs\u001b[0m\u001b[0;34m)\u001b[0m\u001b[0;34m:\u001b[0m\u001b[0;34m\u001b[0m\u001b[0;34m\u001b[0m\u001b[0m\n\u001b[1;32m    252\u001b[0m             return [func(*args, **kwargs)\n\u001b[0;32m--> 253\u001b[0;31m                     for func, args, kwargs in self.items]\n\u001b[0m\u001b[1;32m    254\u001b[0m \u001b[0;34m\u001b[0m\u001b[0m\n\u001b[1;32m    255\u001b[0m     \u001b[0;32mdef\u001b[0m \u001b[0m__reduce__\u001b[0m\u001b[0;34m(\u001b[0m\u001b[0mself\u001b[0m\u001b[0;34m)\u001b[0m\u001b[0;34m:\u001b[0m\u001b[0;34m\u001b[0m\u001b[0;34m\u001b[0m\u001b[0m\n",
            "\u001b[0;32m<ipython-input-4-5ee51bdb21b8>\u001b[0m in \u001b[0;36miamge_generator\u001b[0;34m(x, y)\u001b[0m\n\u001b[1;32m      6\u001b[0m     \u001b[0;32mfor\u001b[0m \u001b[0mf\u001b[0m \u001b[0;32min\u001b[0m \u001b[0mfuncs\u001b[0m\u001b[0;34m:\u001b[0m\u001b[0;34m\u001b[0m\u001b[0;34m\u001b[0m\u001b[0m\n\u001b[1;32m      7\u001b[0m         \u001b[0mimage_to_transform\u001b[0m \u001b[0;34m=\u001b[0m \u001b[0msk\u001b[0m\u001b[0;34m.\u001b[0m\u001b[0mio\u001b[0m\u001b[0;34m.\u001b[0m\u001b[0mimread\u001b[0m\u001b[0;34m(\u001b[0m\u001b[0mdata_train_dir\u001b[0m \u001b[0;34m+\u001b[0m \u001b[0mx\u001b[0m\u001b[0;34m)\u001b[0m\u001b[0;34m\u001b[0m\u001b[0;34m\u001b[0m\u001b[0m\n\u001b[0;32m----> 8\u001b[0;31m         \u001b[0mtransformed_image\u001b[0m \u001b[0;34m=\u001b[0m \u001b[0mf\u001b[0m\u001b[0;34m(\u001b[0m\u001b[0mimage_to_transform\u001b[0m\u001b[0;34m)\u001b[0m\u001b[0;34m\u001b[0m\u001b[0;34m\u001b[0m\u001b[0m\n\u001b[0m\u001b[1;32m      9\u001b[0m         \u001b[0mfilename\u001b[0m \u001b[0;34m=\u001b[0m \u001b[0;34m\"aug_\"\u001b[0m  \u001b[0;34m+\u001b[0m \u001b[0mstr\u001b[0m\u001b[0;34m(\u001b[0m\u001b[0mf_idx\u001b[0m\u001b[0;34m)\u001b[0m  \u001b[0;34m+\u001b[0m \u001b[0;34m\"_\"\u001b[0m \u001b[0;34m+\u001b[0m \u001b[0mx\u001b[0m\u001b[0;34m\u001b[0m\u001b[0;34m\u001b[0m\u001b[0m\n\u001b[1;32m     10\u001b[0m         \u001b[0mrows\u001b[0m\u001b[0;34m.\u001b[0m\u001b[0mappend\u001b[0m\u001b[0;34m(\u001b[0m\u001b[0;34m[\u001b[0m\u001b[0mfilename\u001b[0m \u001b[0;34m,\u001b[0m \u001b[0my\u001b[0m\u001b[0;34m]\u001b[0m\u001b[0;34m)\u001b[0m\u001b[0;34m\u001b[0m\u001b[0;34m\u001b[0m\u001b[0m\n",
            "\u001b[0;32m<ipython-input-3-76103fcf7f6b>\u001b[0m in \u001b[0;36mrandom_noise\u001b[0;34m(image)\u001b[0m\n\u001b[1;32m      6\u001b[0m \u001b[0;32mdef\u001b[0m \u001b[0mrandom_noise\u001b[0m\u001b[0;34m(\u001b[0m\u001b[0mimage\u001b[0m\u001b[0;34m)\u001b[0m\u001b[0;34m:\u001b[0m\u001b[0;34m\u001b[0m\u001b[0;34m\u001b[0m\u001b[0m\n\u001b[1;32m      7\u001b[0m     \u001b[0;31m# add random noise to the image\u001b[0m\u001b[0;34m\u001b[0m\u001b[0;34m\u001b[0m\u001b[0;34m\u001b[0m\u001b[0m\n\u001b[0;32m----> 8\u001b[0;31m     \u001b[0;32mreturn\u001b[0m \u001b[0mrandom_noise\u001b[0m\u001b[0;34m(\u001b[0m\u001b[0mimage\u001b[0m\u001b[0;34m)\u001b[0m\u001b[0;34m\u001b[0m\u001b[0;34m\u001b[0m\u001b[0m\n\u001b[0m\u001b[1;32m      9\u001b[0m \u001b[0;34m\u001b[0m\u001b[0m\n\u001b[1;32m     10\u001b[0m \u001b[0;32mdef\u001b[0m \u001b[0mblurring\u001b[0m\u001b[0;34m(\u001b[0m\u001b[0miamge\u001b[0m\u001b[0;34m)\u001b[0m\u001b[0;34m:\u001b[0m\u001b[0;34m\u001b[0m\u001b[0;34m\u001b[0m\u001b[0m\n",
            "... last 1 frames repeated, from the frame below ...\n",
            "\u001b[0;32m<ipython-input-3-76103fcf7f6b>\u001b[0m in \u001b[0;36mrandom_noise\u001b[0;34m(image)\u001b[0m\n\u001b[1;32m      6\u001b[0m \u001b[0;32mdef\u001b[0m \u001b[0mrandom_noise\u001b[0m\u001b[0;34m(\u001b[0m\u001b[0mimage\u001b[0m\u001b[0;34m)\u001b[0m\u001b[0;34m:\u001b[0m\u001b[0;34m\u001b[0m\u001b[0;34m\u001b[0m\u001b[0m\n\u001b[1;32m      7\u001b[0m     \u001b[0;31m# add random noise to the image\u001b[0m\u001b[0;34m\u001b[0m\u001b[0;34m\u001b[0m\u001b[0;34m\u001b[0m\u001b[0m\n\u001b[0;32m----> 8\u001b[0;31m     \u001b[0;32mreturn\u001b[0m \u001b[0mrandom_noise\u001b[0m\u001b[0;34m(\u001b[0m\u001b[0mimage\u001b[0m\u001b[0;34m)\u001b[0m\u001b[0;34m\u001b[0m\u001b[0;34m\u001b[0m\u001b[0m\n\u001b[0m\u001b[1;32m      9\u001b[0m \u001b[0;34m\u001b[0m\u001b[0m\n\u001b[1;32m     10\u001b[0m \u001b[0;32mdef\u001b[0m \u001b[0mblurring\u001b[0m\u001b[0;34m(\u001b[0m\u001b[0miamge\u001b[0m\u001b[0;34m)\u001b[0m\u001b[0;34m:\u001b[0m\u001b[0;34m\u001b[0m\u001b[0;34m\u001b[0m\u001b[0m\n",
            "\u001b[0;31mRecursionError\u001b[0m: maximum recursion depth exceeded"
          ]
        }
      ]
    },
    {
      "cell_type": "code",
      "metadata": {
        "id": "z2TViTnmo4eG",
        "outputId": "74ab45ed-d829-414f-c776-08a8974567f6",
        "colab": {
          "base_uri": "https://localhost:8080/",
          "height": 170
        }
      },
      "source": [
        "print(train_label.shape)\n",
        "all_res = np.array(all_res)\n",
        "print(all_res.shape)\n",
        "all_res = all_res.reshape(1164*2,2)\n",
        "print(all_res.shape)\n"
      ],
      "execution_count": null,
      "outputs": [
        {
          "output_type": "stream",
          "text": [
            "(1164, 2)\n",
            "(1164, 2, 2)\n",
            "[['aug_0_0.png' '1']\n",
            " ['aug_1_0.png' '1']\n",
            " ['aug_0_1.png' '0']\n",
            " ...\n",
            " ['aug_1_1162.png' '1']\n",
            " ['aug_0_1163.png' '1']\n",
            " ['aug_1_1163.png' '1']]\n"
          ],
          "name": "stdout"
        }
      ]
    },
    {
      "cell_type": "code",
      "metadata": {
        "id": "1dr_YHJRzsYJ"
      },
      "source": [
        "print(train_label.shape)\n",
        "for i in all_res:    \n",
        "    new_row = {'ID':i[0], 'Label':i[1]}\n",
        "    #append row to the dataframe\n",
        "    train_label = train_label.append(new_row, ignore_index=True)\n",
        "print(train_label.shape)\n"
      ],
      "execution_count": null,
      "outputs": []
    },
    {
      "cell_type": "code",
      "metadata": {
        "id": "kVbjUyGehFNt"
      },
      "source": [
        "\n",
        "BATCH_SIZE=32\n",
        "IMG_SIZE=(512, 512)\n",
        "w_init = glorot_normal()\n",
        "b_init = Zeros()"
      ],
      "execution_count": null,
      "outputs": []
    },
    {
      "cell_type": "code",
      "metadata": {
        "id": "311YzfntlwsX"
      },
      "source": [
        "#parameter\n",
        "\n",
        "data_train_label = \"/content/train_label.csv\"\n",
        "data_train_label_aug = \"/content/augment_train_label.csv\"\n",
        "data_train_dir = \"/content/train_image/\"\n",
        "data_test_dir = \"/content/test_image/\"\n",
        "output_dir = 'model_output/'\n",
        "output_training= output_dir + 'check_point'\n",
        "output_logs = output_dir + 'logs'\n",
        "\n",
        "if not os.path.exists(output_dir):\n",
        "    os.makedirs(output_dir)\n",
        "if not os.path.exists(output_training):\n",
        "    os.makedirs(output_training)\n",
        "if not os.path.exists(output_logs):\n",
        "    os.makedirs(output_logs)"
      ],
      "execution_count": null,
      "outputs": []
    },
    {
      "cell_type": "code",
      "metadata": {
        "id": "R1HqCVF2zQmN"
      },
      "source": [
        "\n",
        "\n",
        "\n"
      ],
      "execution_count": null,
      "outputs": []
    },
    {
      "cell_type": "code",
      "metadata": {
        "id": "Pm0XRXRooU_E"
      },
      "source": [
        "modelcheckpoint = ModelCheckpoint(filepath=output_training +\"/vgg19_{epoch:03d}-{val_loss:.3f}-{val_accuracy:.3f}.h5\", \n",
        "                                  monitor='val_accuracy',\n",
        "                                  mode = 'max',\n",
        "                                  save_best_only=True)\n",
        "tensorboard = TensorBoard(output_logs)\n",
        "reduce_lr = ReduceLROnPlateau(monitor='val_loss', factor=0.1,\n",
        "                              mode='min',verbose = 1,\n",
        "                              patience=6, min_lr=0.00001)"
      ],
      "execution_count": null,
      "outputs": []
    },
    {
      "cell_type": "code",
      "metadata": {
        "id": "VDv8y48rnb3b",
        "outputId": "139a5864-8011-47c3-9405-a4e5b532effb",
        "colab": {
          "base_uri": "https://localhost:8080/",
          "height": 119
        }
      },
      "source": [
        "\n",
        "\n"
      ],
      "execution_count": null,
      "outputs": [
        {
          "output_type": "stream",
          "text": [
            "      ID Label\n",
            "0  0.png     1\n",
            "1  1.png     0\n",
            "2  2.png     1\n",
            "3  3.png     1\n",
            "4  4.png     1\n"
          ],
          "name": "stdout"
        }
      ]
    },
    {
      "cell_type": "code",
      "metadata": {
        "id": "WOuMMFcGaFwm",
        "outputId": "bb238d53-90f5-4fac-d326-adeb573ad32d",
        "colab": {
          "base_uri": "https://localhost:8080/",
          "height": 51
        }
      },
      "source": [
        "datagen_no_augmentation=ImageDataGenerator(rescale=1./255, validation_split=0.1)\n",
        "\n",
        "data_train_no_augmentation = datagen_no_augmentation.flow_from_dataframe(dataframe=train_label, directory=data_train_dir, subset='training',\n",
        "                                                      x_col=\"ID\", y_col=\"Label\", shuffle = True, class_mode=\"categorical\", seed=42,\n",
        "                                                      target_size=IMG_SIZE, batch_size=BATCH_SIZE)\n",
        "\n",
        "data_validation_no_augmentation = datagen_no_augmentation.flow_from_dataframe(dataframe=train_label, directory=data_train_dir, subset='validation',\n",
        "                                                        x_col=\"ID\", y_col=\"Label\", shuffle = True, class_mode=\"categorical\",seed=42,\n",
        "                                                        target_size=IMG_SIZE, batch_size=BATCH_SIZE)\n",
        "\n",
        "\n"
      ],
      "execution_count": null,
      "outputs": [
        {
          "output_type": "stream",
          "text": [
            "Found 3143 validated image filenames belonging to 3 classes.\n",
            "Found 349 validated image filenames belonging to 3 classes.\n"
          ],
          "name": "stdout"
        }
      ]
    },
    {
      "cell_type": "code",
      "metadata": {
        "id": "M0cliu50E-p4",
        "outputId": "8efa2ca6-7de6-4525-e37e-cc02a6fc5ede",
        "colab": {
          "base_uri": "https://localhost:8080/",
          "height": 51
        }
      },
      "source": [
        "datagen_augmentation_noise=ImageDataGenerator(rescale=1./255,\n",
        "                                        brightness_range=[0.2,1],\n",
        "                                        zoom_range=0.1,\n",
        "                                        preprocessing_function = add_noise,\n",
        "                                        validation_split=0.3)\n",
        "\n",
        "data_train_noise = datagen_augmentation_noise.flow_from_dataframe(dataframe=train_label, directory=data_train_dir, subset='training',\n",
        "                                                      x_col=\"ID\", y_col=\"Label\", shuffle = True, class_mode=\"categorical\", seed=42,\n",
        "                                                      target_size=IMG_SIZE, batch_size=BATCH_SIZE)\n",
        "\n",
        "data_validation_noise = datagen_augmentation_noise.flow_from_dataframe(dataframe=train_label, directory=data_train_dir, subset='validation',\n",
        "                                                        x_col=\"ID\", y_col=\"Label\", shuffle = True, class_mode=\"categorical\", seed=42,\n",
        "                                                        target_size=IMG_SIZE, batch_size=BATCH_SIZE)\n"
      ],
      "execution_count": null,
      "outputs": [
        {
          "output_type": "stream",
          "text": [
            "Found 815 validated image filenames belonging to 3 classes.\n",
            "Found 349 validated image filenames belonging to 3 classes.\n"
          ],
          "name": "stdout"
        }
      ]
    },
    {
      "cell_type": "code",
      "metadata": {
        "id": "ba8jLcBmqMMb"
      },
      "source": [
        ""
      ],
      "execution_count": null,
      "outputs": []
    },
    {
      "cell_type": "code",
      "metadata": {
        "id": "MoCnDzk8D3iB",
        "outputId": "ee057e4a-bff3-4791-a54a-3ae4104ae777",
        "colab": {
          "base_uri": "https://localhost:8080/",
          "height": 51
        }
      },
      "source": [
        "datagen_augmentation=ImageDataGenerator(rescale=1./255,\n",
        "                                        # shear_range=0.2,\n",
        "                                        rotation_range=10,\n",
        "                                        brightness_range=[0.3,0.9],\n",
        "                                        zoom_range=0.2,\n",
        "                                        validation_split=0.2)\n",
        "\n",
        "data_train_augmentation = datagen_augmentation.flow_from_dataframe(dataframe=train_label, directory=data_train_dir, subset='training',\n",
        "                                                      x_col=\"ID\", y_col=\"Label\", shuffle = True, class_mode=\"categorical\", seed=42,\n",
        "                                                      target_size=IMG_SIZE, batch_size=BATCH_SIZE)\n",
        "\n",
        "data_validation_augmentation = datagen_augmentation.flow_from_dataframe(dataframe=train_label, directory=data_train_dir, subset='validation',\n",
        "                                                        x_col=\"ID\", y_col=\"Label\", shuffle = True, class_mode=\"categorical\", seed=42,\n",
        "                                                        target_size=IMG_SIZE, batch_size=BATCH_SIZE)\n",
        "\n"
      ],
      "execution_count": null,
      "outputs": [
        {
          "output_type": "stream",
          "text": [
            "Found 932 validated image filenames belonging to 3 classes.\n",
            "Found 232 validated image filenames belonging to 3 classes.\n"
          ],
          "name": "stdout"
        }
      ]
    },
    {
      "cell_type": "code",
      "metadata": {
        "id": "Plq_Sp0eSvY2",
        "outputId": "9cbf4dc3-f36b-4806-8768-c8d585e87378",
        "colab": {
          "base_uri": "https://localhost:8080/",
          "height": 34
        }
      },
      "source": [
        "testgen=ImageDataGenerator(rescale=1./255)\n",
        "\n",
        "data_test=testgen.flow_from_directory(directory=data_test_dir, \n",
        "                                      shuffle = False, target_size=IMG_SIZE, class_mode='categorical', batch_size=1)"
      ],
      "execution_count": null,
      "outputs": [
        {
          "output_type": "stream",
          "text": [
            "Found 292 images belonging to 1 classes.\n"
          ],
          "name": "stdout"
        }
      ]
    },
    {
      "cell_type": "code",
      "metadata": {
        "id": "qt7u8MLihosh"
      },
      "source": [
        ""
      ],
      "execution_count": null,
      "outputs": []
    },
    {
      "cell_type": "code",
      "metadata": {
        "id": "YudY1-cEpFC5",
        "outputId": "787f1be9-d04d-411e-bf34-ef8ef520300f",
        "colab": {
          "base_uri": "https://localhost:8080/",
          "height": 391
        }
      },
      "source": [
        "vgg19 = VGG19(include_top=False,\n",
        "              weights=\"imagenet\",\n",
        "              input_shape=(512,512,3),\n",
        "              pooling = \"max\")\n",
        "for layer in vgg19.layers:\n",
        "    layer.trainable = False\n",
        "\n",
        "model = Sequential()\n",
        "model.add(vgg19)\n",
        "model.add(Flatten())\n",
        "model.add(Dropout(0.5))\n",
        "model.add(Dense(100, kernel_initializer=w_init, bias_initializer=b_init, kernel_regularizer='l2'))\n",
        "model.add(Activation('relu'))\n",
        "model.add(Dropout(0.2))\n",
        "model.add(Dense(3, activation='softmax'))\n",
        "model.summary()"
      ],
      "execution_count": null,
      "outputs": [
        {
          "output_type": "stream",
          "text": [
            "Model: \"sequential_8\"\n",
            "_________________________________________________________________\n",
            "Layer (type)                 Output Shape              Param #   \n",
            "=================================================================\n",
            "vgg19 (Functional)           (None, 512)               20024384  \n",
            "_________________________________________________________________\n",
            "flatten_8 (Flatten)          (None, 512)               0         \n",
            "_________________________________________________________________\n",
            "dropout_16 (Dropout)         (None, 512)               0         \n",
            "_________________________________________________________________\n",
            "dense_16 (Dense)             (None, 100)               51300     \n",
            "_________________________________________________________________\n",
            "activation_8 (Activation)    (None, 100)               0         \n",
            "_________________________________________________________________\n",
            "dropout_17 (Dropout)         (None, 100)               0         \n",
            "_________________________________________________________________\n",
            "dense_17 (Dense)             (None, 3)                 303       \n",
            "=================================================================\n",
            "Total params: 20,075,987\n",
            "Trainable params: 51,603\n",
            "Non-trainable params: 20,024,384\n",
            "_________________________________________________________________\n"
          ],
          "name": "stdout"
        }
      ]
    },
    {
      "cell_type": "code",
      "metadata": {
        "id": "8uF9Rw7N7acM"
      },
      "source": [
        "optimizer = tf.keras.optimizers.Adam(\n",
        "    learning_rate=0.0001,\n",
        "    beta_1=0.9,\n",
        "    beta_2=0.999,\n",
        "    epsilon=1e-07,\n",
        "    amsgrad=False,\n",
        "    name=\"Adam\",\n",
        ")\n",
        "\n",
        "\n",
        "loss = tf.keras.losses.CategoricalCrossentropy(\n",
        "    from_logits=False,\n",
        "    label_smoothing=0.1,\n",
        "    reduction=\"auto\",\n",
        "    name=\"categorical_crossentropy\",\n",
        ")\n",
        "\n",
        "model.compile(optimizer=optimizer, loss=loss, metrics=['accuracy'])"
      ],
      "execution_count": null,
      "outputs": []
    },
    {
      "cell_type": "code",
      "metadata": {
        "id": "NgNIfvOGj8V5"
      },
      "source": [
        ""
      ],
      "execution_count": null,
      "outputs": []
    },
    {
      "cell_type": "code",
      "metadata": {
        "id": "xuLx_2kzTLDB",
        "outputId": "e432e949-cd4e-4a0e-fe13-856f59e04911",
        "colab": {
          "base_uri": "https://localhost:8080/",
          "height": 1000
        }
      },
      "source": [
        "model.fit(data_train_no_augmentation, epochs=40, validation_data=data_validation_no_augmentation, verbose=1)"
      ],
      "execution_count": null,
      "outputs": [
        {
          "output_type": "stream",
          "text": [
            "Epoch 1/40\n",
            "99/99 [==============================] - 89s 902ms/step - loss: 1.4918 - accuracy: 0.6179 - val_loss: 1.3481 - val_accuracy: 0.7650\n",
            "Epoch 2/40\n",
            "99/99 [==============================] - 85s 859ms/step - loss: 1.4603 - accuracy: 0.6153 - val_loss: 1.3057 - val_accuracy: 0.7421\n",
            "Epoch 3/40\n",
            "99/99 [==============================] - 85s 861ms/step - loss: 1.4231 - accuracy: 0.6242 - val_loss: 1.2794 - val_accuracy: 0.7679\n",
            "Epoch 4/40\n",
            "99/99 [==============================] - 85s 863ms/step - loss: 1.3766 - accuracy: 0.6424 - val_loss: 1.2457 - val_accuracy: 0.7708\n",
            "Epoch 5/40\n",
            "99/99 [==============================] - 85s 863ms/step - loss: 1.3676 - accuracy: 0.6309 - val_loss: 1.2166 - val_accuracy: 0.7794\n",
            "Epoch 6/40\n",
            "99/99 [==============================] - 85s 859ms/step - loss: 1.3447 - accuracy: 0.6507 - val_loss: 1.1984 - val_accuracy: 0.7708\n",
            "Epoch 7/40\n",
            "99/99 [==============================] - 86s 865ms/step - loss: 1.3194 - accuracy: 0.6351 - val_loss: 1.1791 - val_accuracy: 0.7880\n",
            "Epoch 8/40\n",
            "99/99 [==============================] - 86s 865ms/step - loss: 1.2903 - accuracy: 0.6532 - val_loss: 1.1537 - val_accuracy: 0.7794\n",
            "Epoch 9/40\n",
            "99/99 [==============================] - 85s 863ms/step - loss: 1.2810 - accuracy: 0.6446 - val_loss: 1.1358 - val_accuracy: 0.7908\n",
            "Epoch 10/40\n",
            "99/99 [==============================] - 85s 862ms/step - loss: 1.2664 - accuracy: 0.6341 - val_loss: 1.1071 - val_accuracy: 0.7650\n",
            "Epoch 11/40\n",
            "99/99 [==============================] - 85s 862ms/step - loss: 1.2406 - accuracy: 0.6421 - val_loss: 1.0885 - val_accuracy: 0.7851\n",
            "Epoch 12/40\n",
            "99/99 [==============================] - 85s 862ms/step - loss: 1.2097 - accuracy: 0.6602 - val_loss: 1.0807 - val_accuracy: 0.7937\n",
            "Epoch 13/40\n",
            "99/99 [==============================] - 85s 861ms/step - loss: 1.1943 - accuracy: 0.6513 - val_loss: 1.0542 - val_accuracy: 0.7851\n",
            "Epoch 14/40\n",
            "99/99 [==============================] - 85s 862ms/step - loss: 1.1811 - accuracy: 0.6580 - val_loss: 1.0368 - val_accuracy: 0.7937\n",
            "Epoch 15/40\n",
            "99/99 [==============================] - 85s 863ms/step - loss: 1.1708 - accuracy: 0.6564 - val_loss: 1.0190 - val_accuracy: 0.7966\n",
            "Epoch 16/40\n",
            "99/99 [==============================] - 85s 864ms/step - loss: 1.1497 - accuracy: 0.6675 - val_loss: 1.0199 - val_accuracy: 0.7908\n",
            "Epoch 17/40\n",
            "99/99 [==============================] - 85s 863ms/step - loss: 1.1390 - accuracy: 0.6545 - val_loss: 0.9916 - val_accuracy: 0.7966\n",
            "Epoch 18/40\n",
            "99/99 [==============================] - 85s 863ms/step - loss: 1.1243 - accuracy: 0.6554 - val_loss: 0.9767 - val_accuracy: 0.7880\n",
            "Epoch 19/40\n",
            "99/99 [==============================] - 85s 862ms/step - loss: 1.0973 - accuracy: 0.6742 - val_loss: 0.9663 - val_accuracy: 0.7994\n",
            "Epoch 20/40\n",
            "99/99 [==============================] - 85s 862ms/step - loss: 1.0951 - accuracy: 0.6577 - val_loss: 0.9542 - val_accuracy: 0.7880\n",
            "Epoch 21/40\n",
            "99/99 [==============================] - 86s 864ms/step - loss: 1.0791 - accuracy: 0.6640 - val_loss: 0.9404 - val_accuracy: 0.7536\n",
            "Epoch 22/40\n",
            "99/99 [==============================] - 86s 865ms/step - loss: 1.0830 - accuracy: 0.6557 - val_loss: 0.9375 - val_accuracy: 0.8166\n",
            "Epoch 23/40\n",
            "99/99 [==============================] - 85s 861ms/step - loss: 1.0602 - accuracy: 0.6780 - val_loss: 0.9213 - val_accuracy: 0.7851\n",
            "Epoch 24/40\n",
            "99/99 [==============================] - 85s 863ms/step - loss: 1.0526 - accuracy: 0.6739 - val_loss: 0.9129 - val_accuracy: 0.7851\n",
            "Epoch 25/40\n",
            "99/99 [==============================] - 85s 862ms/step - loss: 1.0422 - accuracy: 0.6739 - val_loss: 0.9003 - val_accuracy: 0.8080\n",
            "Epoch 26/40\n",
            "99/99 [==============================] - 86s 864ms/step - loss: 1.0248 - accuracy: 0.6866 - val_loss: 0.8881 - val_accuracy: 0.8080\n",
            "Epoch 27/40\n",
            "99/99 [==============================] - 85s 861ms/step - loss: 1.0293 - accuracy: 0.6678 - val_loss: 0.8817 - val_accuracy: 0.7994\n",
            "Epoch 28/40\n",
            "99/99 [==============================] - 86s 864ms/step - loss: 1.0200 - accuracy: 0.6656 - val_loss: 0.8755 - val_accuracy: 0.8023\n",
            "Epoch 29/40\n",
            "99/99 [==============================] - 85s 864ms/step - loss: 1.0160 - accuracy: 0.6666 - val_loss: 0.8659 - val_accuracy: 0.8195\n",
            "Epoch 30/40\n",
            "99/99 [==============================] - 85s 863ms/step - loss: 0.9935 - accuracy: 0.6771 - val_loss: 0.8634 - val_accuracy: 0.8023\n",
            "Epoch 31/40\n",
            "99/99 [==============================] - 85s 862ms/step - loss: 0.9928 - accuracy: 0.6723 - val_loss: 0.8590 - val_accuracy: 0.8080\n",
            "Epoch 32/40\n",
            "99/99 [==============================] - 85s 863ms/step - loss: 0.9781 - accuracy: 0.6822 - val_loss: 0.8467 - val_accuracy: 0.8052\n",
            "Epoch 33/40\n",
            "99/99 [==============================] - 85s 861ms/step - loss: 0.9618 - accuracy: 0.6917 - val_loss: 0.8274 - val_accuracy: 0.8023\n",
            "Epoch 34/40\n",
            "99/99 [==============================] - 85s 864ms/step - loss: 0.9538 - accuracy: 0.6790 - val_loss: 0.8250 - val_accuracy: 0.8052\n",
            "Epoch 35/40\n",
            "99/99 [==============================] - 85s 862ms/step - loss: 0.9512 - accuracy: 0.6904 - val_loss: 0.8294 - val_accuracy: 0.8052\n",
            "Epoch 36/40\n",
            "31/99 [========>.....................] - ETA: 50s - loss: 0.9557 - accuracy: 0.6991"
          ],
          "name": "stdout"
        }
      ]
    },
    {
      "cell_type": "code",
      "metadata": {
        "id": "QmUlNhGskXKz"
      },
      "source": [
        ""
      ],
      "execution_count": null,
      "outputs": []
    },
    {
      "cell_type": "code",
      "metadata": {
        "id": "h8NEU0AtWt69"
      },
      "source": [
        "# model = tf.keras.models.load_model(output_training +\"/vgg19_927.h5\")\n",
        "model.evaluate(data_test, verbose=2)\n"
      ],
      "execution_count": null,
      "outputs": []
    },
    {
      "cell_type": "code",
      "metadata": {
        "id": "HvhIAdxU4xnU",
        "outputId": "74ecca49-5ca0-4b58-f0c7-b280ee6cd230",
        "colab": {
          "base_uri": "https://localhost:8080/",
          "height": 34
        }
      },
      "source": [
        "print(tf.keras.backend.eval(model.optimizer.lr))"
      ],
      "execution_count": null,
      "outputs": [
        {
          "output_type": "stream",
          "text": [
            "1e-05\n"
          ],
          "name": "stdout"
        }
      ]
    },
    {
      "cell_type": "code",
      "metadata": {
        "id": "wkBiAeIzI9nu"
      },
      "source": [
        ""
      ],
      "execution_count": null,
      "outputs": []
    },
    {
      "cell_type": "code",
      "metadata": {
        "id": "lK3wk1M_M9sl"
      },
      "source": [
        ""
      ],
      "execution_count": null,
      "outputs": []
    },
    {
      "cell_type": "code",
      "metadata": {
        "id": "toicWSW1ZVsR"
      },
      "source": [
        ""
      ],
      "execution_count": null,
      "outputs": []
    },
    {
      "cell_type": "code",
      "metadata": {
        "id": "jyky2tXIZV2Y"
      },
      "source": [
        ""
      ],
      "execution_count": null,
      "outputs": []
    },
    {
      "cell_type": "markdown",
      "metadata": {
        "id": "DKeZu-QYdYdl"
      },
      "source": [
        ""
      ]
    },
    {
      "cell_type": "code",
      "metadata": {
        "id": "L2wjrzgUZV95"
      },
      "source": [
        ""
      ],
      "execution_count": null,
      "outputs": []
    },
    {
      "cell_type": "code",
      "metadata": {
        "id": "vcmF0f1t5M_u",
        "outputId": "dd8b5fd6-5b0b-4f92-a706-878037084402",
        "colab": {
          "base_uri": "https://localhost:8080/",
          "height": 51
        }
      },
      "source": [
        "\n",
        "model.evaluate(data_validation_no_augmentation, verbose=2)"
      ],
      "execution_count": null,
      "outputs": [
        {
          "output_type": "stream",
          "text": [
            "11/11 - 8s - loss: 0.1062 - accuracy: 0.9628\n"
          ],
          "name": "stdout"
        },
        {
          "output_type": "execute_result",
          "data": {
            "text/plain": [
              "[0.1062137633562088, 0.9627507328987122]"
            ]
          },
          "metadata": {
            "tags": []
          },
          "execution_count": 45
        }
      ]
    },
    {
      "cell_type": "code",
      "metadata": {
        "id": "TnC9Ckf-Lgdq"
      },
      "source": [
        ""
      ],
      "execution_count": null,
      "outputs": []
    },
    {
      "cell_type": "code",
      "metadata": {
        "id": "0F9_Cm8OLiCe"
      },
      "source": [
        ""
      ],
      "execution_count": null,
      "outputs": []
    },
    {
      "cell_type": "code",
      "metadata": {
        "id": "A8LkF-QYKvMS"
      },
      "source": [
        ""
      ],
      "execution_count": null,
      "outputs": []
    },
    {
      "cell_type": "code",
      "metadata": {
        "id": "uHZPsIXZzStL"
      },
      "source": [
        ""
      ],
      "execution_count": null,
      "outputs": []
    },
    {
      "cell_type": "code",
      "metadata": {
        "id": "NQxSNUimXVq4"
      },
      "source": [
        ""
      ],
      "execution_count": null,
      "outputs": []
    },
    {
      "cell_type": "code",
      "metadata": {
        "id": "nPJxxX6OWBxr"
      },
      "source": [
        ""
      ],
      "execution_count": null,
      "outputs": []
    },
    {
      "cell_type": "code",
      "metadata": {
        "id": "e0s7Ik6efGF8"
      },
      "source": [
        "predicted_classes = np.argmax(model.predict(data_test), axis = -1)"
      ],
      "execution_count": null,
      "outputs": []
    },
    {
      "cell_type": "code",
      "metadata": {
        "id": "n8VDN191gl9q"
      },
      "source": [
        "test_id = data_test.filenames\n",
        "new_test_id = [x.replace('.png', '').replace('test_image/', '') for x in test_id]\n"
      ],
      "execution_count": null,
      "outputs": []
    },
    {
      "cell_type": "code",
      "metadata": {
        "id": "T5ajWxtYi_qb",
        "outputId": "3ac3352f-6f7c-499b-8514-6d4ea085c614",
        "colab": {
          "base_uri": "https://localhost:8080/",
          "height": 204
        }
      },
      "source": [
        "evaluation = pd.DataFrame({'ID':new_test_id, 'Label':predicted_classes})\n",
        "evaluation.to_csv(output_dir + \"vgg19_augmentation_2_evaluation_submission.csv\", index=False) # Public Score: 0.76555\n",
        "evaluation.head()"
      ],
      "execution_count": null,
      "outputs": [
        {
          "output_type": "execute_result",
          "data": {
            "text/html": [
              "<div>\n",
              "<style scoped>\n",
              "    .dataframe tbody tr th:only-of-type {\n",
              "        vertical-align: middle;\n",
              "    }\n",
              "\n",
              "    .dataframe tbody tr th {\n",
              "        vertical-align: top;\n",
              "    }\n",
              "\n",
              "    .dataframe thead th {\n",
              "        text-align: right;\n",
              "    }\n",
              "</style>\n",
              "<table border=\"1\" class=\"dataframe\">\n",
              "  <thead>\n",
              "    <tr style=\"text-align: right;\">\n",
              "      <th></th>\n",
              "      <th>ID</th>\n",
              "      <th>Label</th>\n",
              "    </tr>\n",
              "  </thead>\n",
              "  <tbody>\n",
              "    <tr>\n",
              "      <th>0</th>\n",
              "      <td>0</td>\n",
              "      <td>0</td>\n",
              "    </tr>\n",
              "    <tr>\n",
              "      <th>1</th>\n",
              "      <td>1</td>\n",
              "      <td>1</td>\n",
              "    </tr>\n",
              "    <tr>\n",
              "      <th>2</th>\n",
              "      <td>10</td>\n",
              "      <td>0</td>\n",
              "    </tr>\n",
              "    <tr>\n",
              "      <th>3</th>\n",
              "      <td>100</td>\n",
              "      <td>2</td>\n",
              "    </tr>\n",
              "    <tr>\n",
              "      <th>4</th>\n",
              "      <td>101</td>\n",
              "      <td>1</td>\n",
              "    </tr>\n",
              "  </tbody>\n",
              "</table>\n",
              "</div>"
            ],
            "text/plain": [
              "    ID  Label\n",
              "0    0      0\n",
              "1    1      1\n",
              "2   10      0\n",
              "3  100      2\n",
              "4  101      1"
            ]
          },
          "metadata": {
            "tags": []
          },
          "execution_count": 66
        }
      ]
    },
    {
      "cell_type": "code",
      "metadata": {
        "id": "EthYuvGpTfh0"
      },
      "source": [
        "model.save(output_dir + \"xception_noise_model.h5\")"
      ],
      "execution_count": null,
      "outputs": []
    },
    {
      "cell_type": "code",
      "metadata": {
        "id": "-xdRt-_XMk7P",
        "outputId": "44a677bd-77cd-432b-9f75-ff2205ca110e",
        "colab": {
          "base_uri": "https://localhost:8080/",
          "height": 156
        }
      },
      "source": [
        ""
      ],
      "execution_count": null,
      "outputs": [
        {
          "output_type": "stream",
          "text": [
            "WARNING:tensorflow:From /usr/local/lib/python3.6/dist-packages/tensorflow/python/training/tracking/tracking.py:111: Model.state_updates (from tensorflow.python.keras.engine.training) is deprecated and will be removed in a future version.\n",
            "Instructions for updating:\n",
            "This property should not be used in TensorFlow 2.0, as updates are applied automatically.\n",
            "WARNING:tensorflow:From /usr/local/lib/python3.6/dist-packages/tensorflow/python/training/tracking/tracking.py:111: Layer.updates (from tensorflow.python.keras.engine.base_layer) is deprecated and will be removed in a future version.\n",
            "Instructions for updating:\n",
            "This property should not be used in TensorFlow 2.0, as updates are applied automatically.\n",
            "INFO:tensorflow:Assets written to: model_output/check_point/assets\n"
          ],
          "name": "stdout"
        }
      ]
    },
    {
      "cell_type": "code",
      "metadata": {
        "id": "TfomqUIuMlJG"
      },
      "source": [
        "!cp -r 'model_output' '/content/drive/My Drive/AI/vgg19' "
      ],
      "execution_count": null,
      "outputs": []
    },
    {
      "cell_type": "code",
      "metadata": {
        "id": "L4HsdyVuRJcA"
      },
      "source": [
        "!rm -r 'model_output'"
      ],
      "execution_count": null,
      "outputs": []
    },
    {
      "cell_type": "code",
      "metadata": {
        "id": "29AGTzwLpdzi"
      },
      "source": [
        "!cp -r '/content/drive/My Drive/AI/test_image' ."
      ],
      "execution_count": null,
      "outputs": []
    },
    {
      "cell_type": "code",
      "metadata": {
        "id": "iQDx4nAqUcGv",
        "outputId": "8c923d3b-8531-4d5b-df77-af0b8db4170a",
        "colab": {
          "base_uri": "https://localhost:8080/",
          "height": 459
        }
      },
      "source": [
        "# Recreate the exact same model, including its weights and the optimizer\n",
        "model = tf.keras.models.load_model(output_dir + \"xception_noise_model.h5\")\n",
        "\n",
        "# Show the model architecture\n",
        "model.summary()"
      ],
      "execution_count": null,
      "outputs": [
        {
          "output_type": "stream",
          "text": [
            "Model: \"sequential\"\n",
            "_________________________________________________________________\n",
            "Layer (type)                 Output Shape              Param #   \n",
            "=================================================================\n",
            "xception (Functional)        (None, 16, 16, 2048)      20861480  \n",
            "_________________________________________________________________\n",
            "max_pooling2d (MaxPooling2D) (None, 8, 8, 2048)        0         \n",
            "_________________________________________________________________\n",
            "flatten (Flatten)            (None, 131072)            0         \n",
            "_________________________________________________________________\n",
            "dropout (Dropout)            (None, 131072)            0         \n",
            "_________________________________________________________________\n",
            "dense (Dense)                (None, 30)                3932190   \n",
            "_________________________________________________________________\n",
            "batch_normalization_4 (Batch (None, 30)                120       \n",
            "_________________________________________________________________\n",
            "activation (Activation)      (None, 30)                0         \n",
            "_________________________________________________________________\n",
            "dropout_1 (Dropout)          (None, 30)                0         \n",
            "_________________________________________________________________\n",
            "dense_1 (Dense)              (None, 3)                 93        \n",
            "=================================================================\n",
            "Total params: 24,793,883\n",
            "Trainable params: 3,932,343\n",
            "Non-trainable params: 20,861,540\n",
            "_________________________________________________________________\n"
          ],
          "name": "stdout"
        }
      ]
    },
    {
      "cell_type": "code",
      "metadata": {
        "id": "DRtPKu4rUlbj",
        "outputId": "96dc9447-f639-4a13-da4b-320677f72085",
        "colab": {
          "base_uri": "https://localhost:8080/",
          "height": 255
        }
      },
      "source": [
        "np.argmax(model.predict(data_test), axis = -1)"
      ],
      "execution_count": null,
      "outputs": [
        {
          "output_type": "execute_result",
          "data": {
            "text/plain": [
              "array([0, 1, 0, 2, 1, 2, 2, 1, 0, 1, 1, 0, 1, 1, 1, 1, 0, 1, 1, 1, 0, 1,\n",
              "       1, 1, 1, 2, 1, 2, 1, 1, 0, 1, 0, 1, 1, 0, 0, 1, 1, 0, 0, 0, 2, 0,\n",
              "       1, 0, 2, 1, 1, 1, 1, 2, 0, 0, 0, 0, 1, 1, 0, 2, 2, 1, 2, 0, 0, 1,\n",
              "       0, 1, 1, 1, 0, 1, 2, 2, 1, 1, 1, 1, 1, 1, 1, 1, 2, 2, 2, 2, 1, 0,\n",
              "       1, 1, 0, 0, 1, 1, 2, 2, 2, 1, 2, 2, 1, 2, 1, 2, 2, 0, 1, 1, 1, 2,\n",
              "       2, 0, 2, 1, 1, 2, 1, 1, 1, 2, 1, 2, 2, 1, 0, 0, 1, 0, 0, 2, 1, 2,\n",
              "       1, 2, 1, 1, 1, 2, 0, 0, 0, 1, 1, 1, 0, 1, 1, 1, 2, 2, 1, 1, 1, 1,\n",
              "       0, 1, 1, 2, 2, 0, 2, 0, 1, 2, 1, 0, 1, 2, 2, 1, 1, 2, 0, 0, 2, 0,\n",
              "       0, 0, 2, 1, 0, 0, 2, 1, 1, 1, 1, 1, 1, 0, 1, 1, 1, 0, 2, 0, 0, 2,\n",
              "       2, 0, 0, 1, 0, 1, 0, 2, 1, 1, 0, 0, 2, 2, 2, 1, 0, 2, 1, 2, 1, 2,\n",
              "       1, 0, 1, 1, 2, 1, 1, 1, 2, 0, 0, 1, 0, 1, 2, 0, 0, 1, 0, 0, 1, 1,\n",
              "       2, 0, 1, 1, 2, 2, 2, 2, 0, 0, 2, 0, 1, 2, 2, 2, 2, 2, 0, 2, 1, 1,\n",
              "       1, 0, 1, 0, 2, 1, 2, 1, 2, 0, 0, 1, 2, 1, 1, 1, 1, 0, 1, 0, 2, 1,\n",
              "       0, 1, 2, 1, 1, 0])"
            ]
          },
          "metadata": {
            "tags": []
          },
          "execution_count": 13
        }
      ]
    },
    {
      "cell_type": "code",
      "metadata": {
        "id": "ESsANCK1Upjn",
        "outputId": "3ae86e1e-2dee-4a2d-c904-a67e8f044b2a",
        "colab": {
          "base_uri": "https://localhost:8080/",
          "height": 255
        }
      },
      "source": [
        "np.argmax(new_model.predict(data_test), axis = -1)"
      ],
      "execution_count": null,
      "outputs": [
        {
          "output_type": "execute_result",
          "data": {
            "text/plain": [
              "array([0, 1, 0, 2, 1, 2, 2, 1, 0, 1, 1, 0, 1, 1, 1, 1, 0, 1, 1, 1, 0, 1,\n",
              "       1, 1, 1, 2, 1, 2, 1, 1, 0, 1, 0, 1, 1, 0, 0, 1, 1, 0, 0, 0, 2, 0,\n",
              "       1, 0, 2, 1, 1, 1, 1, 2, 0, 0, 0, 0, 1, 1, 0, 2, 2, 1, 2, 0, 0, 1,\n",
              "       0, 1, 1, 1, 0, 1, 2, 2, 1, 1, 1, 1, 1, 1, 1, 1, 2, 2, 2, 2, 1, 0,\n",
              "       1, 1, 0, 0, 1, 1, 2, 2, 2, 1, 2, 2, 1, 2, 1, 2, 2, 0, 1, 1, 1, 2,\n",
              "       2, 0, 2, 1, 1, 2, 1, 1, 1, 2, 1, 2, 2, 1, 0, 0, 1, 0, 0, 2, 1, 2,\n",
              "       1, 2, 1, 1, 1, 2, 0, 0, 0, 1, 1, 1, 0, 1, 1, 1, 2, 2, 1, 1, 1, 1,\n",
              "       0, 1, 1, 2, 2, 0, 2, 0, 1, 2, 1, 0, 1, 2, 2, 1, 1, 2, 0, 0, 2, 0,\n",
              "       0, 0, 2, 1, 0, 0, 2, 1, 1, 1, 1, 1, 1, 0, 1, 1, 1, 0, 2, 0, 0, 2,\n",
              "       2, 0, 0, 1, 0, 1, 0, 2, 1, 1, 0, 0, 2, 2, 2, 1, 0, 2, 1, 2, 1, 2,\n",
              "       1, 0, 1, 1, 2, 1, 1, 1, 2, 0, 0, 1, 0, 1, 2, 0, 0, 1, 0, 0, 1, 1,\n",
              "       2, 0, 1, 1, 2, 2, 2, 2, 0, 0, 2, 0, 1, 2, 2, 2, 2, 2, 0, 2, 1, 1,\n",
              "       1, 0, 1, 0, 2, 1, 2, 1, 2, 0, 0, 1, 2, 1, 1, 1, 1, 0, 1, 0, 2, 1,\n",
              "       0, 1, 2, 1, 1, 0])"
            ]
          },
          "metadata": {
            "tags": []
          },
          "execution_count": 30
        }
      ]
    },
    {
      "cell_type": "code",
      "metadata": {
        "id": "pCKZ9zMZUsLH",
        "outputId": "5e8b46f3-0e5f-48d2-8890-ba7d9d527349",
        "colab": {
          "base_uri": "https://localhost:8080/",
          "height": 341
        }
      },
      "source": [
        "new_model.fit(data_train_noise, epochs=30, validation_data=data_validation_noise, verbose=1, callbacks=[tensorboard])"
      ],
      "execution_count": null,
      "outputs": [
        {
          "output_type": "stream",
          "text": [
            "Epoch 1/30\n",
            " 6/30 [=====>........................] - ETA: 50s - loss: 0.5440 - accuracy: 0.9583"
          ],
          "name": "stdout"
        },
        {
          "output_type": "error",
          "ename": "KeyboardInterrupt",
          "evalue": "ignored",
          "traceback": [
            "\u001b[0;31m---------------------------------------------------------------------------\u001b[0m",
            "\u001b[0;31mKeyboardInterrupt\u001b[0m                         Traceback (most recent call last)",
            "\u001b[0;32m<ipython-input-31-a6cfd2ab801f>\u001b[0m in \u001b[0;36m<module>\u001b[0;34m()\u001b[0m\n\u001b[0;32m----> 1\u001b[0;31m \u001b[0mnew_model\u001b[0m\u001b[0;34m.\u001b[0m\u001b[0mfit\u001b[0m\u001b[0;34m(\u001b[0m\u001b[0mdata_train_noise\u001b[0m\u001b[0;34m,\u001b[0m \u001b[0mepochs\u001b[0m\u001b[0;34m=\u001b[0m\u001b[0;36m30\u001b[0m\u001b[0;34m,\u001b[0m \u001b[0mvalidation_data\u001b[0m\u001b[0;34m=\u001b[0m\u001b[0mdata_validation_noise\u001b[0m\u001b[0;34m,\u001b[0m \u001b[0mverbose\u001b[0m\u001b[0;34m=\u001b[0m\u001b[0;36m1\u001b[0m\u001b[0;34m,\u001b[0m \u001b[0mcallbacks\u001b[0m\u001b[0;34m=\u001b[0m\u001b[0;34m[\u001b[0m\u001b[0mtensorboard\u001b[0m\u001b[0;34m]\u001b[0m\u001b[0;34m)\u001b[0m\u001b[0;34m\u001b[0m\u001b[0;34m\u001b[0m\u001b[0m\n\u001b[0m",
            "\u001b[0;32m/usr/local/lib/python3.6/dist-packages/tensorflow/python/keras/engine/training.py\u001b[0m in \u001b[0;36m_method_wrapper\u001b[0;34m(self, *args, **kwargs)\u001b[0m\n\u001b[1;32m    106\u001b[0m   \u001b[0;32mdef\u001b[0m \u001b[0m_method_wrapper\u001b[0m\u001b[0;34m(\u001b[0m\u001b[0mself\u001b[0m\u001b[0;34m,\u001b[0m \u001b[0;34m*\u001b[0m\u001b[0margs\u001b[0m\u001b[0;34m,\u001b[0m \u001b[0;34m**\u001b[0m\u001b[0mkwargs\u001b[0m\u001b[0;34m)\u001b[0m\u001b[0;34m:\u001b[0m\u001b[0;34m\u001b[0m\u001b[0;34m\u001b[0m\u001b[0m\n\u001b[1;32m    107\u001b[0m     \u001b[0;32mif\u001b[0m \u001b[0;32mnot\u001b[0m \u001b[0mself\u001b[0m\u001b[0;34m.\u001b[0m\u001b[0m_in_multi_worker_mode\u001b[0m\u001b[0;34m(\u001b[0m\u001b[0;34m)\u001b[0m\u001b[0;34m:\u001b[0m  \u001b[0;31m# pylint: disable=protected-access\u001b[0m\u001b[0;34m\u001b[0m\u001b[0;34m\u001b[0m\u001b[0m\n\u001b[0;32m--> 108\u001b[0;31m       \u001b[0;32mreturn\u001b[0m \u001b[0mmethod\u001b[0m\u001b[0;34m(\u001b[0m\u001b[0mself\u001b[0m\u001b[0;34m,\u001b[0m \u001b[0;34m*\u001b[0m\u001b[0margs\u001b[0m\u001b[0;34m,\u001b[0m \u001b[0;34m**\u001b[0m\u001b[0mkwargs\u001b[0m\u001b[0;34m)\u001b[0m\u001b[0;34m\u001b[0m\u001b[0;34m\u001b[0m\u001b[0m\n\u001b[0m\u001b[1;32m    109\u001b[0m \u001b[0;34m\u001b[0m\u001b[0m\n\u001b[1;32m    110\u001b[0m     \u001b[0;31m# Running inside `run_distribute_coordinator` already.\u001b[0m\u001b[0;34m\u001b[0m\u001b[0;34m\u001b[0m\u001b[0;34m\u001b[0m\u001b[0m\n",
            "\u001b[0;32m/usr/local/lib/python3.6/dist-packages/tensorflow/python/keras/engine/training.py\u001b[0m in \u001b[0;36mfit\u001b[0;34m(self, x, y, batch_size, epochs, verbose, callbacks, validation_split, validation_data, shuffle, class_weight, sample_weight, initial_epoch, steps_per_epoch, validation_steps, validation_batch_size, validation_freq, max_queue_size, workers, use_multiprocessing)\u001b[0m\n\u001b[1;32m   1096\u001b[0m                 batch_size=batch_size):\n\u001b[1;32m   1097\u001b[0m               \u001b[0mcallbacks\u001b[0m\u001b[0;34m.\u001b[0m\u001b[0mon_train_batch_begin\u001b[0m\u001b[0;34m(\u001b[0m\u001b[0mstep\u001b[0m\u001b[0;34m)\u001b[0m\u001b[0;34m\u001b[0m\u001b[0;34m\u001b[0m\u001b[0m\n\u001b[0;32m-> 1098\u001b[0;31m               \u001b[0mtmp_logs\u001b[0m \u001b[0;34m=\u001b[0m \u001b[0mtrain_function\u001b[0m\u001b[0;34m(\u001b[0m\u001b[0miterator\u001b[0m\u001b[0;34m)\u001b[0m\u001b[0;34m\u001b[0m\u001b[0;34m\u001b[0m\u001b[0m\n\u001b[0m\u001b[1;32m   1099\u001b[0m               \u001b[0;32mif\u001b[0m \u001b[0mdata_handler\u001b[0m\u001b[0;34m.\u001b[0m\u001b[0mshould_sync\u001b[0m\u001b[0;34m:\u001b[0m\u001b[0;34m\u001b[0m\u001b[0;34m\u001b[0m\u001b[0m\n\u001b[1;32m   1100\u001b[0m                 \u001b[0mcontext\u001b[0m\u001b[0;34m.\u001b[0m\u001b[0masync_wait\u001b[0m\u001b[0;34m(\u001b[0m\u001b[0;34m)\u001b[0m\u001b[0;34m\u001b[0m\u001b[0;34m\u001b[0m\u001b[0m\n",
            "\u001b[0;32m/usr/local/lib/python3.6/dist-packages/tensorflow/python/eager/def_function.py\u001b[0m in \u001b[0;36m__call__\u001b[0;34m(self, *args, **kwds)\u001b[0m\n\u001b[1;32m    778\u001b[0m       \u001b[0;32melse\u001b[0m\u001b[0;34m:\u001b[0m\u001b[0;34m\u001b[0m\u001b[0;34m\u001b[0m\u001b[0m\n\u001b[1;32m    779\u001b[0m         \u001b[0mcompiler\u001b[0m \u001b[0;34m=\u001b[0m \u001b[0;34m\"nonXla\"\u001b[0m\u001b[0;34m\u001b[0m\u001b[0;34m\u001b[0m\u001b[0m\n\u001b[0;32m--> 780\u001b[0;31m         \u001b[0mresult\u001b[0m \u001b[0;34m=\u001b[0m \u001b[0mself\u001b[0m\u001b[0;34m.\u001b[0m\u001b[0m_call\u001b[0m\u001b[0;34m(\u001b[0m\u001b[0;34m*\u001b[0m\u001b[0margs\u001b[0m\u001b[0;34m,\u001b[0m \u001b[0;34m**\u001b[0m\u001b[0mkwds\u001b[0m\u001b[0;34m)\u001b[0m\u001b[0;34m\u001b[0m\u001b[0;34m\u001b[0m\u001b[0m\n\u001b[0m\u001b[1;32m    781\u001b[0m \u001b[0;34m\u001b[0m\u001b[0m\n\u001b[1;32m    782\u001b[0m       \u001b[0mnew_tracing_count\u001b[0m \u001b[0;34m=\u001b[0m \u001b[0mself\u001b[0m\u001b[0;34m.\u001b[0m\u001b[0m_get_tracing_count\u001b[0m\u001b[0;34m(\u001b[0m\u001b[0;34m)\u001b[0m\u001b[0;34m\u001b[0m\u001b[0;34m\u001b[0m\u001b[0m\n",
            "\u001b[0;32m/usr/local/lib/python3.6/dist-packages/tensorflow/python/eager/def_function.py\u001b[0m in \u001b[0;36m_call\u001b[0;34m(self, *args, **kwds)\u001b[0m\n\u001b[1;32m    812\u001b[0m       \u001b[0;31m# In this case we have not created variables on the first call. So we can\u001b[0m\u001b[0;34m\u001b[0m\u001b[0;34m\u001b[0m\u001b[0;34m\u001b[0m\u001b[0m\n\u001b[1;32m    813\u001b[0m       \u001b[0;31m# run the first trace but we should fail if variables are created.\u001b[0m\u001b[0;34m\u001b[0m\u001b[0;34m\u001b[0m\u001b[0;34m\u001b[0m\u001b[0m\n\u001b[0;32m--> 814\u001b[0;31m       \u001b[0mresults\u001b[0m \u001b[0;34m=\u001b[0m \u001b[0mself\u001b[0m\u001b[0;34m.\u001b[0m\u001b[0m_stateful_fn\u001b[0m\u001b[0;34m(\u001b[0m\u001b[0;34m*\u001b[0m\u001b[0margs\u001b[0m\u001b[0;34m,\u001b[0m \u001b[0;34m**\u001b[0m\u001b[0mkwds\u001b[0m\u001b[0;34m)\u001b[0m\u001b[0;34m\u001b[0m\u001b[0;34m\u001b[0m\u001b[0m\n\u001b[0m\u001b[1;32m    815\u001b[0m       \u001b[0;32mif\u001b[0m \u001b[0mself\u001b[0m\u001b[0;34m.\u001b[0m\u001b[0m_created_variables\u001b[0m\u001b[0;34m:\u001b[0m\u001b[0;34m\u001b[0m\u001b[0;34m\u001b[0m\u001b[0m\n\u001b[1;32m    816\u001b[0m         raise ValueError(\"Creating variables on a non-first call to a function\"\n",
            "\u001b[0;32m/usr/local/lib/python3.6/dist-packages/tensorflow/python/eager/function.py\u001b[0m in \u001b[0;36m__call__\u001b[0;34m(self, *args, **kwargs)\u001b[0m\n\u001b[1;32m   2827\u001b[0m     \u001b[0;32mwith\u001b[0m \u001b[0mself\u001b[0m\u001b[0;34m.\u001b[0m\u001b[0m_lock\u001b[0m\u001b[0;34m:\u001b[0m\u001b[0;34m\u001b[0m\u001b[0;34m\u001b[0m\u001b[0m\n\u001b[1;32m   2828\u001b[0m       \u001b[0mgraph_function\u001b[0m\u001b[0;34m,\u001b[0m \u001b[0margs\u001b[0m\u001b[0;34m,\u001b[0m \u001b[0mkwargs\u001b[0m \u001b[0;34m=\u001b[0m \u001b[0mself\u001b[0m\u001b[0;34m.\u001b[0m\u001b[0m_maybe_define_function\u001b[0m\u001b[0;34m(\u001b[0m\u001b[0margs\u001b[0m\u001b[0;34m,\u001b[0m \u001b[0mkwargs\u001b[0m\u001b[0;34m)\u001b[0m\u001b[0;34m\u001b[0m\u001b[0;34m\u001b[0m\u001b[0m\n\u001b[0;32m-> 2829\u001b[0;31m     \u001b[0;32mreturn\u001b[0m \u001b[0mgraph_function\u001b[0m\u001b[0;34m.\u001b[0m\u001b[0m_filtered_call\u001b[0m\u001b[0;34m(\u001b[0m\u001b[0margs\u001b[0m\u001b[0;34m,\u001b[0m \u001b[0mkwargs\u001b[0m\u001b[0;34m)\u001b[0m  \u001b[0;31m# pylint: disable=protected-access\u001b[0m\u001b[0;34m\u001b[0m\u001b[0;34m\u001b[0m\u001b[0m\n\u001b[0m\u001b[1;32m   2830\u001b[0m \u001b[0;34m\u001b[0m\u001b[0m\n\u001b[1;32m   2831\u001b[0m   \u001b[0;34m@\u001b[0m\u001b[0mproperty\u001b[0m\u001b[0;34m\u001b[0m\u001b[0;34m\u001b[0m\u001b[0m\n",
            "\u001b[0;32m/usr/local/lib/python3.6/dist-packages/tensorflow/python/eager/function.py\u001b[0m in \u001b[0;36m_filtered_call\u001b[0;34m(self, args, kwargs, cancellation_manager)\u001b[0m\n\u001b[1;32m   1846\u001b[0m                            resource_variable_ops.BaseResourceVariable))],\n\u001b[1;32m   1847\u001b[0m         \u001b[0mcaptured_inputs\u001b[0m\u001b[0;34m=\u001b[0m\u001b[0mself\u001b[0m\u001b[0;34m.\u001b[0m\u001b[0mcaptured_inputs\u001b[0m\u001b[0;34m,\u001b[0m\u001b[0;34m\u001b[0m\u001b[0;34m\u001b[0m\u001b[0m\n\u001b[0;32m-> 1848\u001b[0;31m         cancellation_manager=cancellation_manager)\n\u001b[0m\u001b[1;32m   1849\u001b[0m \u001b[0;34m\u001b[0m\u001b[0m\n\u001b[1;32m   1850\u001b[0m   \u001b[0;32mdef\u001b[0m \u001b[0m_call_flat\u001b[0m\u001b[0;34m(\u001b[0m\u001b[0mself\u001b[0m\u001b[0;34m,\u001b[0m \u001b[0margs\u001b[0m\u001b[0;34m,\u001b[0m \u001b[0mcaptured_inputs\u001b[0m\u001b[0;34m,\u001b[0m \u001b[0mcancellation_manager\u001b[0m\u001b[0;34m=\u001b[0m\u001b[0;32mNone\u001b[0m\u001b[0;34m)\u001b[0m\u001b[0;34m:\u001b[0m\u001b[0;34m\u001b[0m\u001b[0;34m\u001b[0m\u001b[0m\n",
            "\u001b[0;32m/usr/local/lib/python3.6/dist-packages/tensorflow/python/eager/function.py\u001b[0m in \u001b[0;36m_call_flat\u001b[0;34m(self, args, captured_inputs, cancellation_manager)\u001b[0m\n\u001b[1;32m   1922\u001b[0m       \u001b[0;31m# No tape is watching; skip to running the function.\u001b[0m\u001b[0;34m\u001b[0m\u001b[0;34m\u001b[0m\u001b[0;34m\u001b[0m\u001b[0m\n\u001b[1;32m   1923\u001b[0m       return self._build_call_outputs(self._inference_function.call(\n\u001b[0;32m-> 1924\u001b[0;31m           ctx, args, cancellation_manager=cancellation_manager))\n\u001b[0m\u001b[1;32m   1925\u001b[0m     forward_backward = self._select_forward_and_backward_functions(\n\u001b[1;32m   1926\u001b[0m         \u001b[0margs\u001b[0m\u001b[0;34m,\u001b[0m\u001b[0;34m\u001b[0m\u001b[0;34m\u001b[0m\u001b[0m\n",
            "\u001b[0;32m/usr/local/lib/python3.6/dist-packages/tensorflow/python/eager/function.py\u001b[0m in \u001b[0;36mcall\u001b[0;34m(self, ctx, args, cancellation_manager)\u001b[0m\n\u001b[1;32m    548\u001b[0m               \u001b[0minputs\u001b[0m\u001b[0;34m=\u001b[0m\u001b[0margs\u001b[0m\u001b[0;34m,\u001b[0m\u001b[0;34m\u001b[0m\u001b[0;34m\u001b[0m\u001b[0m\n\u001b[1;32m    549\u001b[0m               \u001b[0mattrs\u001b[0m\u001b[0;34m=\u001b[0m\u001b[0mattrs\u001b[0m\u001b[0;34m,\u001b[0m\u001b[0;34m\u001b[0m\u001b[0;34m\u001b[0m\u001b[0m\n\u001b[0;32m--> 550\u001b[0;31m               ctx=ctx)\n\u001b[0m\u001b[1;32m    551\u001b[0m         \u001b[0;32melse\u001b[0m\u001b[0;34m:\u001b[0m\u001b[0;34m\u001b[0m\u001b[0;34m\u001b[0m\u001b[0m\n\u001b[1;32m    552\u001b[0m           outputs = execute.execute_with_cancellation(\n",
            "\u001b[0;32m/usr/local/lib/python3.6/dist-packages/tensorflow/python/eager/execute.py\u001b[0m in \u001b[0;36mquick_execute\u001b[0;34m(op_name, num_outputs, inputs, attrs, ctx, name)\u001b[0m\n\u001b[1;32m     58\u001b[0m     \u001b[0mctx\u001b[0m\u001b[0;34m.\u001b[0m\u001b[0mensure_initialized\u001b[0m\u001b[0;34m(\u001b[0m\u001b[0;34m)\u001b[0m\u001b[0;34m\u001b[0m\u001b[0;34m\u001b[0m\u001b[0m\n\u001b[1;32m     59\u001b[0m     tensors = pywrap_tfe.TFE_Py_Execute(ctx._handle, device_name, op_name,\n\u001b[0;32m---> 60\u001b[0;31m                                         inputs, attrs, num_outputs)\n\u001b[0m\u001b[1;32m     61\u001b[0m   \u001b[0;32mexcept\u001b[0m \u001b[0mcore\u001b[0m\u001b[0;34m.\u001b[0m\u001b[0m_NotOkStatusException\u001b[0m \u001b[0;32mas\u001b[0m \u001b[0me\u001b[0m\u001b[0;34m:\u001b[0m\u001b[0;34m\u001b[0m\u001b[0;34m\u001b[0m\u001b[0m\n\u001b[1;32m     62\u001b[0m     \u001b[0;32mif\u001b[0m \u001b[0mname\u001b[0m \u001b[0;32mis\u001b[0m \u001b[0;32mnot\u001b[0m \u001b[0;32mNone\u001b[0m\u001b[0;34m:\u001b[0m\u001b[0;34m\u001b[0m\u001b[0;34m\u001b[0m\u001b[0m\n",
            "\u001b[0;31mKeyboardInterrupt\u001b[0m: "
          ]
        }
      ]
    },
    {
      "cell_type": "code",
      "metadata": {
        "id": "3uUCu9g1VCE8",
        "outputId": "5ccb7eac-42b5-474d-aae0-322bb5fdea24",
        "colab": {
          "base_uri": "https://localhost:8080/",
          "height": 34
        }
      },
      "source": [
        "print(tf.keras.backend.eval(model.optimizer.lr))"
      ],
      "execution_count": null,
      "outputs": [
        {
          "output_type": "stream",
          "text": [
            "1e-04\n"
          ],
          "name": "stdout"
        }
      ]
    },
    {
      "cell_type": "code",
      "metadata": {
        "id": "_l10WvllVSr8",
        "outputId": "636c4ca7-9248-47e4-f6bf-aa6adf8cdefd",
        "colab": {
          "base_uri": "https://localhost:8080/",
          "height": 34
        }
      },
      "source": [
        "model.optimizer.lr = 0.01\n",
        "print(tf.keras.backend.eval(new_model.optimizer.lr))"
      ],
      "execution_count": null,
      "outputs": [
        {
          "output_type": "stream",
          "text": [
            "0.01\n"
          ],
          "name": "stdout"
        }
      ]
    }
  ]
}